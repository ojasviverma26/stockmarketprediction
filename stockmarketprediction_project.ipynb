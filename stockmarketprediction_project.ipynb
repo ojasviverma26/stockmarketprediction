{
 "cells": [
  {
   "cell_type": "code",
   "execution_count": 1,
   "id": "dfbc4bc2",
   "metadata": {},
   "outputs": [
    {
     "name": "stdout",
     "output_type": "stream",
     "text": [
      "WARNING:tensorflow:From C:\\Users\\ASUS\\anaconda\\Lib\\site-packages\\keras\\src\\losses.py:2976: The name tf.losses.sparse_softmax_cross_entropy is deprecated. Please use tf.compat.v1.losses.sparse_softmax_cross_entropy instead.\n",
      "\n"
     ]
    }
   ],
   "source": [
    "import numpy as np \n",
    "import pandas as pd \n",
    "import matplotlib.pyplot as plt \n",
    "from sklearn.preprocessing import MinMaxScaler\n",
    "from keras.models import Sequential\n",
    "from keras.layers import Dense,LSTM,Dropout"
   ]
  },
  {
   "cell_type": "code",
   "execution_count": 2,
   "id": "6f4ca2b6",
   "metadata": {},
   "outputs": [
    {
     "data": {
      "text/html": [
       "<div>\n",
       "<style scoped>\n",
       "    .dataframe tbody tr th:only-of-type {\n",
       "        vertical-align: middle;\n",
       "    }\n",
       "\n",
       "    .dataframe tbody tr th {\n",
       "        vertical-align: top;\n",
       "    }\n",
       "\n",
       "    .dataframe thead th {\n",
       "        text-align: right;\n",
       "    }\n",
       "</style>\n",
       "<table border=\"1\" class=\"dataframe\">\n",
       "  <thead>\n",
       "    <tr style=\"text-align: right;\">\n",
       "      <th></th>\n",
       "      <th>Date</th>\n",
       "      <th>Open</th>\n",
       "      <th>High</th>\n",
       "      <th>Low</th>\n",
       "      <th>Close</th>\n",
       "      <th>Volume</th>\n",
       "    </tr>\n",
       "  </thead>\n",
       "  <tbody>\n",
       "    <tr>\n",
       "      <th>0</th>\n",
       "      <td>01-03-2012</td>\n",
       "      <td>325.25</td>\n",
       "      <td>332.83</td>\n",
       "      <td>324.97</td>\n",
       "      <td>663.59</td>\n",
       "      <td>73,80,500</td>\n",
       "    </tr>\n",
       "    <tr>\n",
       "      <th>1</th>\n",
       "      <td>01-04-2012</td>\n",
       "      <td>331.27</td>\n",
       "      <td>333.87</td>\n",
       "      <td>329.08</td>\n",
       "      <td>666.45</td>\n",
       "      <td>57,49,400</td>\n",
       "    </tr>\n",
       "    <tr>\n",
       "      <th>2</th>\n",
       "      <td>01-05-2012</td>\n",
       "      <td>329.83</td>\n",
       "      <td>330.75</td>\n",
       "      <td>326.89</td>\n",
       "      <td>657.21</td>\n",
       "      <td>65,90,300</td>\n",
       "    </tr>\n",
       "    <tr>\n",
       "      <th>3</th>\n",
       "      <td>01-06-2012</td>\n",
       "      <td>328.34</td>\n",
       "      <td>328.77</td>\n",
       "      <td>323.68</td>\n",
       "      <td>648.24</td>\n",
       "      <td>54,05,900</td>\n",
       "    </tr>\n",
       "    <tr>\n",
       "      <th>4</th>\n",
       "      <td>01-09-2012</td>\n",
       "      <td>322.04</td>\n",
       "      <td>322.29</td>\n",
       "      <td>309.46</td>\n",
       "      <td>620.76</td>\n",
       "      <td>1,16,88,800</td>\n",
       "    </tr>\n",
       "  </tbody>\n",
       "</table>\n",
       "</div>"
      ],
      "text/plain": [
       "         Date    Open    High     Low   Close       Volume\n",
       "0  01-03-2012  325.25  332.83  324.97  663.59    73,80,500\n",
       "1  01-04-2012  331.27  333.87  329.08  666.45    57,49,400\n",
       "2  01-05-2012  329.83  330.75  326.89  657.21    65,90,300\n",
       "3  01-06-2012  328.34  328.77  323.68  648.24    54,05,900\n",
       "4  01-09-2012  322.04  322.29  309.46  620.76  1,16,88,800"
      ]
     },
     "execution_count": 2,
     "metadata": {},
     "output_type": "execute_result"
    }
   ],
   "source": [
    "data = pd.read_csv('Google_train_data.csv')\n",
    "data.head()"
   ]
  },
  {
   "cell_type": "code",
   "execution_count": 3,
   "id": "40b5924b",
   "metadata": {},
   "outputs": [
    {
     "name": "stdout",
     "output_type": "stream",
     "text": [
      "<class 'pandas.core.frame.DataFrame'>\n",
      "RangeIndex: 1258 entries, 0 to 1257\n",
      "Data columns (total 6 columns):\n",
      " #   Column  Non-Null Count  Dtype  \n",
      "---  ------  --------------  -----  \n",
      " 0   Date    1258 non-null   object \n",
      " 1   Open    1258 non-null   float64\n",
      " 2   High    1258 non-null   float64\n",
      " 3   Low     1258 non-null   float64\n",
      " 4   Close   1258 non-null   object \n",
      " 5   Volume  1258 non-null   object \n",
      "dtypes: float64(3), object(3)\n",
      "memory usage: 59.1+ KB\n"
     ]
    }
   ],
   "source": [
    "data.info()"
   ]
  },
  {
   "cell_type": "code",
   "execution_count": 4,
   "id": "dc8c6f1f",
   "metadata": {},
   "outputs": [],
   "source": [
    "data[\"Close\"]=pd.to_numeric(data.Close,errors='coerce')\n",
    "data = data.dropna()\n",
    "trainData = data.iloc[:,4:5].values"
   ]
  },
  {
   "cell_type": "code",
   "execution_count": 5,
   "id": "f4a3dc67",
   "metadata": {},
   "outputs": [
    {
     "name": "stdout",
     "output_type": "stream",
     "text": [
      "<class 'pandas.core.frame.DataFrame'>\n",
      "Int64Index: 1149 entries, 0 to 1257\n",
      "Data columns (total 6 columns):\n",
      " #   Column  Non-Null Count  Dtype  \n",
      "---  ------  --------------  -----  \n",
      " 0   Date    1149 non-null   object \n",
      " 1   Open    1149 non-null   float64\n",
      " 2   High    1149 non-null   float64\n",
      " 3   Low     1149 non-null   float64\n",
      " 4   Close   1149 non-null   float64\n",
      " 5   Volume  1149 non-null   object \n",
      "dtypes: float64(4), object(2)\n",
      "memory usage: 62.8+ KB\n"
     ]
    }
   ],
   "source": [
    "data.info()"
   ]
  },
  {
   "cell_type": "code",
   "execution_count": 6,
   "id": "c1238843",
   "metadata": {},
   "outputs": [
    {
     "data": {
      "text/plain": [
       "(1149, 1)"
      ]
     },
     "execution_count": 6,
     "metadata": {},
     "output_type": "execute_result"
    }
   ],
   "source": [
    "sc = MinMaxScaler(feature_range=(0,1))\n",
    "trainData = sc.fit_transform(trainData)\n",
    "trainData.shape"
   ]
  },
  {
   "cell_type": "code",
   "execution_count": 7,
   "id": "80a9bc39",
   "metadata": {},
   "outputs": [],
   "source": [
    "X_train = []\n",
    "y_train = []\n",
    "\n",
    "for i in range (60,1149): #60 : timestep // 1149 : length of the data\n",
    "    X_train.append(trainData[i-60:i,0]) \n",
    "    y_train.append(trainData[i,0])\n",
    "\n",
    "X_train,y_train = np.array(X_train),np.array(y_train)"
   ]
  },
  {
   "cell_type": "code",
   "execution_count": 8,
   "id": "1954f3ab",
   "metadata": {},
   "outputs": [
    {
     "data": {
      "text/plain": [
       "(1089, 60, 1)"
      ]
     },
     "execution_count": 8,
     "metadata": {},
     "output_type": "execute_result"
    }
   ],
   "source": [
    "X_train = np.reshape(X_train,(X_train.shape[0],X_train.shape[1],1)) #adding the batch_size axis\n",
    "X_train.shape"
   ]
  },
  {
   "cell_type": "code",
   "execution_count": 9,
   "id": "2543f35d",
   "metadata": {},
   "outputs": [
    {
     "name": "stdout",
     "output_type": "stream",
     "text": [
      "WARNING:tensorflow:From C:\\Users\\ASUS\\anaconda\\Lib\\site-packages\\keras\\src\\backend.py:873: The name tf.get_default_graph is deprecated. Please use tf.compat.v1.get_default_graph instead.\n",
      "\n",
      "WARNING:tensorflow:From C:\\Users\\ASUS\\anaconda\\Lib\\site-packages\\keras\\src\\optimizers\\__init__.py:309: The name tf.train.Optimizer is deprecated. Please use tf.compat.v1.train.Optimizer instead.\n",
      "\n"
     ]
    }
   ],
   "source": [
    "model = Sequential()\n",
    "\n",
    "model.add(LSTM(units=100, return_sequences = True, input_shape =(X_train.shape[1],1)))\n",
    "model.add(Dropout(0.2))\n",
    "\n",
    "model.add(LSTM(units=100, return_sequences = True))\n",
    "model.add(Dropout(0.2))\n",
    "\n",
    "model.add(LSTM(units=100, return_sequences = True))\n",
    "model.add(Dropout(0.2))\n",
    "\n",
    "model.add(LSTM(units=100, return_sequences = False))\n",
    "model.add(Dropout(0.2))\n",
    "\n",
    "model.add(Dense(units =1))\n",
    "model.compile(optimizer='adam',loss=\"mean_squared_error\")"
   ]
  },
  {
   "cell_type": "code",
   "execution_count": 10,
   "id": "7a4f039e",
   "metadata": {},
   "outputs": [
    {
     "name": "stdout",
     "output_type": "stream",
     "text": [
      "Epoch 1/20\n",
      "WARNING:tensorflow:From C:\\Users\\ASUS\\anaconda\\Lib\\site-packages\\keras\\src\\utils\\tf_utils.py:492: The name tf.ragged.RaggedTensorValue is deprecated. Please use tf.compat.v1.ragged.RaggedTensorValue instead.\n",
      "\n",
      "35/35 - 12s - loss: 0.0384 - 12s/epoch - 343ms/step\n",
      "Epoch 2/20\n",
      "35/35 - 4s - loss: 0.0107 - 4s/epoch - 100ms/step\n",
      "Epoch 3/20\n",
      "35/35 - 3s - loss: 0.0091 - 3s/epoch - 92ms/step\n",
      "Epoch 4/20\n",
      "35/35 - 3s - loss: 0.0083 - 3s/epoch - 91ms/step\n",
      "Epoch 5/20\n",
      "35/35 - 4s - loss: 0.0085 - 4s/epoch - 102ms/step\n",
      "Epoch 6/20\n",
      "35/35 - 3s - loss: 0.0069 - 3s/epoch - 98ms/step\n",
      "Epoch 7/20\n",
      "35/35 - 3s - loss: 0.0066 - 3s/epoch - 97ms/step\n",
      "Epoch 8/20\n",
      "35/35 - 3s - loss: 0.0083 - 3s/epoch - 93ms/step\n",
      "Epoch 9/20\n",
      "35/35 - 3s - loss: 0.0065 - 3s/epoch - 92ms/step\n",
      "Epoch 10/20\n",
      "35/35 - 3s - loss: 0.0064 - 3s/epoch - 92ms/step\n",
      "Epoch 11/20\n",
      "35/35 - 4s - loss: 0.0061 - 4s/epoch - 103ms/step\n",
      "Epoch 12/20\n",
      "35/35 - 3s - loss: 0.0054 - 3s/epoch - 96ms/step\n",
      "Epoch 13/20\n",
      "35/35 - 3s - loss: 0.0055 - 3s/epoch - 93ms/step\n",
      "Epoch 14/20\n",
      "35/35 - 4s - loss: 0.0058 - 4s/epoch - 111ms/step\n",
      "Epoch 15/20\n",
      "35/35 - 3s - loss: 0.0048 - 3s/epoch - 97ms/step\n",
      "Epoch 16/20\n",
      "35/35 - 4s - loss: 0.0051 - 4s/epoch - 121ms/step\n",
      "Epoch 17/20\n",
      "35/35 - 4s - loss: 0.0074 - 4s/epoch - 111ms/step\n",
      "Epoch 18/20\n",
      "35/35 - 4s - loss: 0.0050 - 4s/epoch - 109ms/step\n",
      "Epoch 19/20\n",
      "35/35 - 4s - loss: 0.0075 - 4s/epoch - 113ms/step\n",
      "Epoch 20/20\n",
      "35/35 - 3s - loss: 0.0045 - 3s/epoch - 95ms/step\n"
     ]
    }
   ],
   "source": [
    "hist = model.fit(X_train, y_train, epochs = 20, batch_size = 32, verbose=2)"
   ]
  },
  {
   "cell_type": "code",
   "execution_count": 11,
   "id": "81e9cad5",
   "metadata": {},
   "outputs": [
    {
     "data": {
      "image/png": "[encoded data removed]",
      "text/plain": [
       "<Figure size 640x480 with 1 Axes>"
      ]
     },
     "metadata": {},
     "output_type": "display_data"
    }
   ],
   "source": [
    "plt.plot(hist.history['loss'])\n",
    "plt.title('Training model loss')\n",
    "plt.ylabel('loss')\n",
    "plt.xlabel('epoch')\n",
    "plt.legend(['train'], loc='upper left')\n",
    "plt.show()"
   ]
  },
  {
   "cell_type": "code",
   "execution_count": 12,
   "id": "cd85a027",
   "metadata": {},
   "outputs": [
    {
     "data": {
      "text/plain": [
       "(192, 60, 1)"
      ]
     },
     "execution_count": 12,
     "metadata": {},
     "output_type": "execute_result"
    }
   ],
   "source": [
    "testData = pd.read_csv('Google_test_data.csv')\n",
    "testData[\"Close\"]=pd.to_numeric(testData.Close,errors='coerce')\n",
    "testData = testData.dropna()\n",
    "testData = testData.iloc[:,4:5]\n",
    "y_test = testData.iloc[60:,0:].values \n",
    "#input array for the model\n",
    "inputClosing = testData.iloc[:,0:].values \n",
    "inputClosing_scaled = sc.transform(inputClosing)\n",
    "inputClosing_scaled.shape\n",
    "X_test = []\n",
    "length = len(testData)\n",
    "timestep = 60\n",
    "for i in range(timestep,length):  \n",
    "    X_test.append(inputClosing_scaled[i-timestep:i,0])\n",
    "X_test = np.array(X_test)\n",
    "X_test = np.reshape(X_test,(X_test.shape[0],X_test.shape[1],1))\n",
    "X_test.shape"
   ]
  },
  {
   "cell_type": "code",
   "execution_count": 13,
   "id": "6364feab",
   "metadata": {},
   "outputs": [
    {
     "name": "stdout",
     "output_type": "stream",
     "text": [
      "6/6 [==============================] - 2s 41ms/step\n"
     ]
    },
    {
     "data": {
      "text/plain": [
       "array([[1.1886693],\n",
       "       [1.1916039],\n",
       "       [1.2034171],\n",
       "       [1.2206899],\n",
       "       [1.2330205],\n",
       "       [1.2291976],\n",
       "       [1.21129  ],\n",
       "       [1.1897694],\n",
       "       [1.1778125],\n",
       "       [1.176965 ],\n",
       "       [1.1724976],\n",
       "       [1.1627151],\n",
       "       [1.1539423],\n",
       "       [1.145874 ],\n",
       "       [1.1456509],\n",
       "       [1.1521833],\n",
       "       [1.1728592],\n",
       "       [1.2034981],\n",
       "       [1.2364335],\n",
       "       [1.2668735],\n",
       "       [1.2741692],\n",
       "       [1.2636632],\n",
       "       [1.2363489],\n",
       "       [1.2028757],\n",
       "       [1.1764522],\n",
       "       [1.1653919],\n",
       "       [1.1679657],\n",
       "       [1.1731607],\n",
       "       [1.1689917],\n",
       "       [1.1590604],\n",
       "       [1.147102 ],\n",
       "       [1.1332415],\n",
       "       [1.1122612],\n",
       "       [1.0867273],\n",
       "       [1.0783956],\n",
       "       [1.0919342],\n",
       "       [1.1180255],\n",
       "       [1.1451257],\n",
       "       [1.1681885],\n",
       "       [1.1764208],\n",
       "       [1.184512 ],\n",
       "       [1.1962405],\n",
       "       [1.2114977],\n",
       "       [1.2259662],\n",
       "       [1.2349013],\n",
       "       [1.2336318],\n",
       "       [1.2208786],\n",
       "       [1.2108828],\n",
       "       [1.2097503],\n",
       "       [1.2185756],\n",
       "       [1.2350646],\n",
       "       [1.2456359],\n",
       "       [1.2478052],\n",
       "       [1.2434024],\n",
       "       [1.2408545],\n",
       "       [1.2366866],\n",
       "       [1.2279683],\n",
       "       [1.2244912],\n",
       "       [1.23586  ],\n",
       "       [1.2567285],\n",
       "       [1.2848486],\n",
       "       [1.3166298],\n",
       "       [1.3357743],\n",
       "       [1.3337924],\n",
       "       [1.3153217],\n",
       "       [1.290629 ],\n",
       "       [1.2760414],\n",
       "       [1.2743615],\n",
       "       [1.282068 ],\n",
       "       [1.2911218],\n",
       "       [1.298767 ],\n",
       "       [1.3024839],\n",
       "       [1.2976402],\n",
       "       [1.2906387],\n",
       "       [1.2851393],\n",
       "       [1.2840602],\n",
       "       [1.2870294],\n",
       "       [1.2930758],\n",
       "       [1.3060312],\n",
       "       [1.3247029],\n",
       "       [1.3478351],\n",
       "       [1.368428 ],\n",
       "       [1.3774157],\n",
       "       [1.3745911],\n",
       "       [1.3748866],\n",
       "       [1.3865352],\n",
       "       [1.4052309],\n",
       "       [1.4209784],\n",
       "       [1.4288068],\n",
       "       [1.4289654],\n",
       "       [1.4289535],\n",
       "       [1.4386357],\n",
       "       [1.4574131],\n",
       "       [1.4694989],\n",
       "       [1.4667217],\n",
       "       [1.4506506],\n",
       "       [1.4260569],\n",
       "       [1.4002053],\n",
       "       [1.3813348],\n",
       "       [1.3788178],\n",
       "       [1.3915654],\n",
       "       [1.4132   ],\n",
       "       [1.4379964],\n",
       "       [1.4566915],\n",
       "       [1.4649132],\n",
       "       [1.4620746],\n",
       "       [1.4542865],\n",
       "       [1.4469972],\n",
       "       [1.4466233],\n",
       "       [1.4530237],\n",
       "       [1.4641062],\n",
       "       [1.478424 ],\n",
       "       [1.4917542],\n",
       "       [1.5049628],\n",
       "       [1.5210171],\n",
       "       [1.5334996],\n",
       "       [1.5419474],\n",
       "       [1.5489613],\n",
       "       [1.559306 ],\n",
       "       [1.5366641],\n",
       "       [1.4826721],\n",
       "       [1.4190353],\n",
       "       [1.3735322],\n",
       "       [1.35539  ],\n",
       "       [1.3552547],\n",
       "       [1.3618683],\n",
       "       [1.3682013],\n",
       "       [1.372961 ],\n",
       "       [1.3664267],\n",
       "       [1.3480245],\n",
       "       [1.338723 ],\n",
       "       [1.3474131],\n",
       "       [1.3633225],\n",
       "       [1.370521 ],\n",
       "       [1.3699263],\n",
       "       [1.3658298],\n",
       "       [1.3582016],\n",
       "       [1.3471537],\n",
       "       [1.3358594],\n",
       "       [1.3218048],\n",
       "       [1.3078953],\n",
       "       [1.293043 ],\n",
       "       [1.2600194],\n",
       "       [1.2203846],\n",
       "       [1.1834722],\n",
       "       [1.1571681],\n",
       "       [1.149958 ],\n",
       "       [1.163322 ],\n",
       "       [1.1887852],\n",
       "       [1.2155747],\n",
       "       [1.2395234],\n",
       "       [1.2563958],\n",
       "       [1.2669582],\n",
       "       [1.2752179],\n",
       "       [1.2814054],\n",
       "       [1.2875136],\n",
       "       [1.2959241],\n",
       "       [1.3031095],\n",
       "       [1.298493 ],\n",
       "       [1.2817351],\n",
       "       [1.2587214],\n",
       "       [1.238278 ],\n",
       "       [1.2298723],\n",
       "       [1.2371331],\n",
       "       [1.2575423],\n",
       "       [1.2855663],\n",
       "       [1.3083011],\n",
       "       [1.322719 ],\n",
       "       [1.3336151],\n",
       "       [1.3431432],\n",
       "       [1.3507658],\n",
       "       [1.357018 ],\n",
       "       [1.3622243],\n",
       "       [1.3635511],\n",
       "       [1.3611146],\n",
       "       [1.3517   ],\n",
       "       [1.3407427],\n",
       "       [1.334602 ],\n",
       "       [1.3317306],\n",
       "       [1.3290945],\n",
       "       [1.3616756],\n",
       "       [1.4191713],\n",
       "       [1.4740864],\n",
       "       [1.5067432],\n",
       "       [1.5123844],\n",
       "       [1.4945424],\n",
       "       [1.4525523],\n",
       "       [1.4080998],\n",
       "       [1.376182 ],\n",
       "       [1.3706224],\n",
       "       [1.381032 ],\n",
       "       [1.3925977]], dtype=float32)"
      ]
     },
     "execution_count": 13,
     "metadata": {},
     "output_type": "execute_result"
    }
   ],
   "source": [
    "y_pred = model.predict(X_test)\n",
    "y_pred"
   ]
  },
  {
   "cell_type": "code",
   "execution_count": 14,
   "id": "7a1418d6",
   "metadata": {},
   "outputs": [],
   "source": [
    "predicted_price = sc.inverse_transform(y_pred)"
   ]
  },
  {
   "cell_type": "code",
   "execution_count": 15,
   "id": "810d7927",
   "metadata": {},
   "outputs": [
    {
     "data": {
      "image/png": "[encoded data removed]",
      "text/plain": [
       "<Figure size 640x480 with 1 Axes>"
      ]
     },
     "metadata": {},
     "output_type": "display_data"
    }
   ],
   "source": [
    "plt.plot(y_test, color = 'red', label = 'Actual Stock Price')\n",
    "plt.plot(predicted_price, color = 'green', label = 'Predicted Stock Price')\n",
    "plt.title('Google stock price prediction')\n",
    "plt.xlabel('Time')\n",
    "plt.ylabel('Stock Price')\n",
    "plt.legend()\n",
    "plt.show()"
   ]
  },
  {
   "cell_type": "code",
   "execution_count": null,
   "id": "39ab078b",
   "metadata": {},
   "outputs": [],
   "source": []
  }
 ],
 "metadata": {
  "kernelspec": {
   "display_name": "Python 3 (ipykernel)",
   "language": "python",
   "name": "python3"
  },
  "language_info": {
   "codemirror_mode": {
    "name": "ipython",
    "version": 3
   },
   "file_extension": ".py",
   "mimetype": "text/x-python",
   "name": "python",
   "nbconvert_exporter": "python",
   "pygments_lexer": "ipython3",
   "version": "3.11.4"
  }
 },
 "nbformat": 4,
 "nbformat_minor": 5
}
